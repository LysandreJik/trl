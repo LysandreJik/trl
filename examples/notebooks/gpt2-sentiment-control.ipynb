{
 "cells": [
  {
   "cell_type": "markdown",
   "metadata": {},
   "source": [
    "# Tune GPT2 to generate controlled sentiment reviews\n",
    "> Optimise GPT2 to produce IMDB movie reviews with controlled sentiment using a BERT sentiment classifier for rewards."
   ]
  },
  {
   "cell_type": "markdown",
   "metadata": {},
   "source": [
    "<div style=\"text-align: center\">\n",
    "<img src='https://huggingface.co/datasets/trl-internal-testing/example-images/resolve/main/images/gpt2-ctrl-training-setup.png' width='600'>\n",
    "<p style=\"text-align: center;\"> <b>Figure:</b> Experiment setup to tune GPT2. The yellow arrows are outside the scope of this notebook, but the trained models are available through Hugging Face. </p>\n",
    "</div>\n",
    "\n",
    "\n",
    "The experiment setup is very similar to the positive sentiment notebook. However, in this notebook we fine-tune GPT2 (small) to generate **controlled** movie reviews based on the IMDB dataset. The model gets the target sentiment and 5 tokens from a real review and is tasked to produce continuations with the targeted sentiment. The reward for the continuations is calculated with the logits of a BERT sentiment classifier. That reward is then used for PPO training."
   ]
  },
  {
   "cell_type": "markdown",
   "metadata": {},
   "source": [
    "## Setup experiment"
   ]
  },
  {
   "cell_type": "markdown",
   "metadata": {},
   "source": [
    "### Import dependencies"
   ]
  },
  {
   "cell_type": "code",
   "execution_count": 1,
   "metadata": {},
   "outputs": [],
   "source": [
    "%load_ext autoreload\n",
    "%autoreload 2"
   ]
  },
  {
   "cell_type": "code",
   "execution_count": 2,
   "metadata": {},
   "outputs": [
    {
     "name": "stderr",
     "output_type": "stream",
     "text": [
      "/home/edward/work/trl/venv/lib/python3.8/site-packages/tqdm/auto.py:22: TqdmWarning: IProgress not found. Please update jupyter and ipywidgets. See https://ipywidgets.readthedocs.io/en/stable/user_install.html\n",
      "  from .autonotebook import tqdm as notebook_tqdm\n"
     ]
    }
   ],
   "source": [
    "import random\n",
    "import torch\n",
    "import wandb\n",
    "import time\n",
    "import os\n",
    "from tqdm import tqdm\n",
    "import numpy as np\n",
    "import pandas as pd\n",
    "from random import choices\n",
    "import matplotlib.pyplot as plt\n",
    "tqdm.pandas()\n",
    "\n",
    "from datasets import load_dataset\n",
    "\n",
    "from transformers import AutoModelForSequenceClassification, AutoTokenizer\n",
    "\n",
    "from trl import PPOTrainer, PPOConfig, AutoModelForCausalLMWithValueHead, create_reference_model\n",
    "from trl.core import build_bert_batch_from_txt, respond_to_batch"
   ]
  },
  {
   "cell_type": "markdown",
   "metadata": {},
   "source": [
    "### Configuration"
   ]
  },
  {
   "cell_type": "code",
   "execution_count": 3,
   "metadata": {},
   "outputs": [],
   "source": [
    "sentiment_config = {\n",
    "    \"model_name\":\"lvwerra/gpt2-imdb\",\n",
    "    \"cls_model_name\": \"lvwerra/distilbert-imdb\",\n",
    "    \"tk_name\": \"gpt2\",\n",
    "    \"txt_in_len\": 5,\n",
    "    \"txt_out_len\": 20,\n",
    "    \"seed\": 1,\n",
    "}\n",
    "\n",
    "config = PPOConfig(\n",
    "    model_name=sentiment_config[\"model_name\"],\n",
    "    steps=25600,\n",
    "    learning_rate=1.41e-5,\n",
    "    remove_unused_columns=False,\n",
    ")"
   ]
  },
  {
   "cell_type": "code",
   "execution_count": 4,
   "metadata": {},
   "outputs": [],
   "source": [
    "np.random.seed(sentiment_config[\"seed\"])"
   ]
  },
  {
   "cell_type": "markdown",
   "metadata": {},
   "source": [
    "You can see that we load a GPT2 model called `gpt2_imdb`. This model was additionally fine-tuned on the IMDB dataset for 1 epoch with the huggingface [script](https://github.com/huggingface/transformers/blob/master/examples/run_language_modeling.py) (no special settings). The other parameters are mostly taken from the original paper [\"Fine-Tuning Language Models from Human Preferences\"](\n",
    "https://arxiv.org/pdf/1909.08593.pdf). This model as well as the BERT model is available in the Huggingface model zoo [here](https://huggingface.co/models). The following code should automatically download the models."
   ]
  },
  {
   "cell_type": "markdown",
   "metadata": {},
   "source": [
    "### Initialize W&B logger\n",
    "We use `wandb`to log all the metrics during training."
   ]
  },
  {
   "cell_type": "code",
   "execution_count": 5,
   "metadata": {},
   "outputs": [
    {
     "name": "stderr",
     "output_type": "stream",
     "text": [
      "Failed to detect the name of this notebook, you can set it manually with the WANDB_NOTEBOOK_NAME environment variable to enable code saving.\n",
      "\u001b[34m\u001b[1mwandb\u001b[0m: Currently logged in as: \u001b[33medbeeching\u001b[0m. Use \u001b[1m`wandb login --relogin`\u001b[0m to force relogin\n"
     ]
    },
    {
     "data": {
      "text/html": [
       "Tracking run with wandb version 0.13.7"
      ],
      "text/plain": [
       "<IPython.core.display.HTML object>"
      ]
     },
     "metadata": {},
     "output_type": "display_data"
    },
    {
     "data": {
      "text/html": [
       "Run data is saved locally in <code>/home/edward/work/trl/examples/notebooks/wandb/run-20230106_115257-uu6c3ggi</code>"
      ],
      "text/plain": [
       "<IPython.core.display.HTML object>"
      ]
     },
     "metadata": {},
     "output_type": "display_data"
    },
    {
     "data": {
      "text/html": [
       "Syncing run <strong><a href=\"https://wandb.ai/edbeeching/gpt2-ctrl/runs/uu6c3ggi\" target=\"_blank\">long-response</a></strong> to <a href=\"https://wandb.ai/edbeeching/gpt2-ctrl\" target=\"_blank\">Weights & Biases</a> (<a href=\"https://wandb.me/run\" target=\"_blank\">docs</a>)<br/>"
      ],
      "text/plain": [
       "<IPython.core.display.HTML object>"
      ]
     },
     "metadata": {},
     "output_type": "display_data"
    },
    {
     "data": {
      "text/html": [
       "<button onClick=\"this.nextSibling.style.display='block';this.style.display='none';\">Display W&B run</button><iframe src=\"https://wandb.ai/edbeeching/gpt2-ctrl/runs/uu6c3ggi?jupyter=true\" style=\"border:none;width:100%;height:420px;display:none;\"></iframe>"
      ],
      "text/plain": [
       "<wandb.sdk.wandb_run.Run at 0x7f116a591bb0>"
      ]
     },
     "execution_count": 5,
     "metadata": {},
     "output_type": "execute_result"
    }
   ],
   "source": [
    "wandb.init(name='long-response', project='gpt2-ctrl', config=config)"
   ]
  },
  {
   "cell_type": "markdown",
   "metadata": {},
   "source": [
    "## Load data and models"
   ]
  },
  {
   "cell_type": "markdown",
   "metadata": {},
   "source": [
    "### Load IMDB dataset\n",
    "The IMDB dataset contains 50k movie review annotated with \"positive\"/\"negative\" feedback indicating the sentiment.  We load the IMDB dataset into a DataFrame and filter for comments that are at least 500 characters long and take the first 1000 characters of each comment. The first filter we apply to avoid comments that are less than `txt_in_len` token long and the second to avoid tokenizing way more text than we actually need."
   ]
  },
  {
   "cell_type": "code",
   "execution_count": 6,
   "metadata": {},
   "outputs": [
    {
     "name": "stderr",
     "output_type": "stream",
     "text": [
      "Found cached dataset imdb (/home/edward/.cache/huggingface/datasets/imdb/plain_text/1.0.0/2fdd8b9bcadd6e7055e742a706876ba43f19faee861df134affd7a3f60fc38a1)\n",
      "Loading cached processed dataset at /home/edward/.cache/huggingface/datasets/imdb/plain_text/1.0.0/2fdd8b9bcadd6e7055e742a706876ba43f19faee861df134affd7a3f60fc38a1/cache-d314b4c14499bf03.arrow\n",
      "Loading cached processed dataset at /home/edward/.cache/huggingface/datasets/imdb/plain_text/1.0.0/2fdd8b9bcadd6e7055e742a706876ba43f19faee861df134affd7a3f60fc38a1/cache-0d5fcb05c95b1186.arrow\n"
     ]
    },
    {
     "data": {
      "text/plain": [
       "{'review': ['I rented I AM CURIOUS-YELLOW from my video store because of all the controversy that surrounded it when it was first released in 1967. I also heard that at first it was seized by U.S. customs if it ever tried to enter this country, therefore being a fan of films considered \"controversial\" I really had to see this for myself.<br /><br />The plot is centered around a young Swedish drama student named Lena who wants to learn everything she can about life. In particular she wants to focus her attentions to making some sort of documentary on what the average Swede thought about certain political issues such as the Vietnam War and race issues in the United States. In between asking politicians and ordinary denizens of Stockholm about their opinions on politics, she has sex with her drama teacher, classmates, and married men.<br /><br />What kills me about I AM CURIOUS-YELLOW is that 40 years ago, this was considered pornographic. Really, the sex and nudity scenes are few and far between, eve',\n",
       "  '\"I Am Curious: Yellow\" is a risible and pretentious steaming pile. It doesn\\'t matter what one\\'s political views are because this film can hardly be taken seriously on any level. As for the claim that frontal male nudity is an automatic NC-17, that isn\\'t true. I\\'ve seen R-rated films with male nudity. Granted, they only offer some fleeting views, but where are the R-rated films with gaping vulvas and flapping labia? Nowhere, because they don\\'t exist. The same goes for those crappy cable shows: schlongs swinging in the breeze but not a clitoris in sight. And those pretentious indie movies like The Brown Bunny, in which we\\'re treated to the site of Vincent Gallo\\'s throbbing johnson, but not a trace of pink visible on Chloe Sevigny. Before crying (or implying) \"double-standard\" in matters of nudity, the mentally obtuse should take into account one unavoidably obvious anatomical difference between men and women: there are no genitals on display when actresses appears nude, and the same cann',\n",
       "  \"If only to avoid making this type of film in the future. This film is interesting as an experiment but tells no cogent story.<br /><br />One might feel virtuous for sitting thru it because it touches on so many IMPORTANT issues but it does so without any discernable motive. The viewer comes away with no new perspectives (unless one comes up with one while one's mind wanders, as it will invariably do during this pointless film).<br /><br />One might better spend one's time staring out a window at a tree growing.<br /><br />\",\n",
       "  \"This film was probably inspired by Godard's Masculin, féminin and I urge you to see that film instead.<br /><br />The film has two strong elements and those are, (1) the realistic acting (2) the impressive, undeservedly good, photo. Apart from that, what strikes me most is the endless stream of silliness. Lena Nyman has to be most annoying actress in the world. She acts so stupid and with all the nudity in this film,...it's unattractive. Comparing to Godard's film, intellectuality has been replaced with stupidity. Without going too far on this subject, I would say that follows from the difference in ideals between the French and the Swedish society.<br /><br />A movie of its time, and place. 2/10.\",\n",
       "  'Oh, brother...after hearing about this ridiculous film for umpteen years all I can think of is that old Peggy Lee song..<br /><br />\"Is that all there is??\" ...I was just an early teen when this smoked fish hit the U.S. I was too young to get in the theater (although I did manage to sneak into \"Goodbye Columbus\"). Then a screening at a local film museum beckoned - Finally I could see this film, except now I was as old as my parents were when they schlepped to see it!!<br /><br />The ONLY reason this film was not condemned to the anonymous sands of time was because of the obscenity case sparked by its U.S. release. MILLIONS of people flocked to this stinker, thinking they were going to see a sex film...Instead, they got lots of closeups of gnarly, repulsive Swedes, on-street interviews in bland shopping malls, asinie political pretension...and feeble who-cares simulated sex scenes with saggy, pale actors.<br /><br />Cultural icon, holy grail, historic artifact..whatever this thing was, '],\n",
       " 'sentiment': [0, 0, 0, 0, 0]}"
      ]
     },
     "execution_count": 6,
     "metadata": {},
     "output_type": "execute_result"
    }
   ],
   "source": [
    "# create the dataset \n",
    "# \n",
    "dataset = load_dataset('imdb', split='train')\n",
    "dataset = dataset.rename_columns({'text': 'review', 'label': 'sentiment'})\n",
    "# make sure the comments are are at least 500 and trim to 1000\n",
    "dataset = dataset.filter(lambda x: len(x[\"review\"])>500, batched=False)\n",
    "dataset = dataset.map(lambda x:{\"review\":x['review'][:1000]}, batched=False)\n",
    "\n",
    "dataset[:5]"
   ]
  },
  {
   "cell_type": "markdown",
   "metadata": {},
   "source": [
    "### Load BERT classifier\n",
    "We load a BERT classifier fine-tuned on the IMDB dataset."
   ]
  },
  {
   "cell_type": "code",
   "execution_count": 7,
   "metadata": {},
   "outputs": [],
   "source": [
    "sentiment_model = AutoModelForSequenceClassification.from_pretrained(sentiment_config[\"cls_model_name\"])\n",
    "sentiment_tokenizer = AutoTokenizer.from_pretrained(sentiment_config[\"cls_model_name\"])"
   ]
  },
  {
   "cell_type": "markdown",
   "metadata": {},
   "source": [
    "The model outputs are the logits for the negative and positive class. We will use the logits for positive class as a reward signal for the language model."
   ]
  },
  {
   "cell_type": "code",
   "execution_count": 8,
   "metadata": {},
   "outputs": [
    {
     "data": {
      "text/plain": [
       "SequenceClassifierOutput(loss=None, logits=tensor([[ 2.3350, -2.7266]], grad_fn=<AddmmBackward0>), hidden_states=None, attentions=None)"
      ]
     },
     "execution_count": 8,
     "metadata": {},
     "output_type": "execute_result"
    }
   ],
   "source": [
    "text = 'this movie was really bad!!'\n",
    "output = sentiment_model.forward(sentiment_tokenizer.encode(text, return_tensors=\"pt\"))\n",
    "output"
   ]
  },
  {
   "cell_type": "code",
   "execution_count": 9,
   "metadata": {},
   "outputs": [
    {
     "data": {
      "text/plain": [
       "SequenceClassifierOutput(loss=None, logits=tensor([[-2.2948,  2.5570]], grad_fn=<AddmmBackward0>), hidden_states=None, attentions=None)"
      ]
     },
     "execution_count": 9,
     "metadata": {},
     "output_type": "execute_result"
    }
   ],
   "source": [
    "text = 'this movie was really good!!'\n",
    "output = sentiment_model.forward(sentiment_tokenizer.encode(text, return_tensors=\"pt\"))\n",
    "output"
   ]
  },
  {
   "cell_type": "code",
   "execution_count": 10,
   "metadata": {},
   "outputs": [
    {
     "data": {
      "text/plain": [
       "SequenceClassifierOutput(loss=None, logits=tensor([[-0.7086,  0.8563]], grad_fn=<AddmmBackward0>), hidden_states=None, attentions=None)"
      ]
     },
     "execution_count": 10,
     "metadata": {},
     "output_type": "execute_result"
    }
   ],
   "source": [
    "text = 'this movie was a documentary'\n",
    "output = sentiment_model.forward(sentiment_tokenizer.encode(text, return_tensors=\"pt\"))\n",
    "output"
   ]
  },
  {
   "cell_type": "markdown",
   "metadata": {},
   "source": [
    "The resulting reward signal:"
   ]
  },
  {
   "cell_type": "code",
   "execution_count": 11,
   "metadata": {},
   "outputs": [
    {
     "data": {
      "text/plain": [
       "tensor(0.8563, grad_fn=<SelectBackward0>)"
      ]
     },
     "execution_count": 11,
     "metadata": {},
     "output_type": "execute_result"
    }
   ],
   "source": [
    "output[0][0, 1]"
   ]
  },
  {
   "cell_type": "markdown",
   "metadata": {},
   "source": [
    "### Load pre-trained GPT2 language models"
   ]
  },
  {
   "cell_type": "markdown",
   "metadata": {},
   "source": [
    "We load the GPT2 model with a value head and the tokenizer. We load the model twice; the first model is optimized while the second model serves as a reference to calculate the KL-divergence from the starting point. This serves as an additional reward signal in the PPO training to make sure the optimized model does not deviate too much from the original language model."
   ]
  },
  {
   "cell_type": "code",
   "execution_count": 12,
   "metadata": {},
   "outputs": [],
   "source": [
    "gpt2_model = AutoModelForCausalLMWithValueHead.from_pretrained(config.model_name)\n",
    "gpt2_model_ref = create_reference_model(gpt2_model)\n",
    "gpt2_tokenizer = AutoTokenizer.from_pretrained(config.model_name)"
   ]
  },
  {
   "cell_type": "markdown",
   "metadata": {},
   "source": [
    "### Watch model with wandb\n",
    "This wandb magic logs the gradients and weights of the model during training."
   ]
  },
  {
   "cell_type": "code",
   "execution_count": 13,
   "metadata": {},
   "outputs": [
    {
     "data": {
      "text/plain": [
       "[]"
      ]
     },
     "execution_count": 13,
     "metadata": {},
     "output_type": "execute_result"
    }
   ],
   "source": [
    "wandb.watch(gpt2_model, log='all')"
   ]
  },
  {
   "attachments": {},
   "cell_type": "markdown",
   "metadata": {},
   "source": [
    "### Tokenize IMDB reviews"
   ]
  },
  {
   "cell_type": "markdown",
   "metadata": {},
   "source": [
    "We tokenize all IMDB in advance to avoid tokenizing twice. In the first step we encode the queries and slice the first `txt_in_len` tokens. In a second step we decode these tokens back to text for later display."
   ]
  },
  {
   "cell_type": "code",
   "execution_count": 14,
   "metadata": {},
   "outputs": [
    {
     "name": "stderr",
     "output_type": "stream",
     "text": [
      "100%|██████████| 22578/22578 [00:08<00:00, 2580.38ex/s]\n",
      "100%|██████████| 22578/22578 [00:01<00:00, 21655.94ex/s]\n"
     ]
    }
   ],
   "source": [
    "ds = dataset.map(lambda x:{\"tokens\":gpt2_tokenizer.encode(' '+x['review'], return_tensors=\"pt\")[0, :sentiment_config['txt_in_len']]}, batched=False)\n",
    "ds = ds.map(lambda x:{\"query\":gpt2_tokenizer.decode(x[\"tokens\"])}, batched=False)"
   ]
  },
  {
   "cell_type": "markdown",
   "metadata": {},
   "source": [
    "### Control token dict\n",
    "We will append the control token at the beginning of each query to signal the model what the target sentiment is. Each control sequence consists of three tokens:"
   ]
  },
  {
   "cell_type": "code",
   "execution_count": 15,
   "metadata": {},
   "outputs": [],
   "source": [
    "ctrl_str = ['[negative]', '[neutral]', '[positive]']\n",
    "device = torch.device(\"cuda\" if torch.cuda.is_available() else \"cpu\") # this should be handled by accelerate\n",
    "ctrl_tokens = dict((s, gpt2_tokenizer.encode(s, return_tensors=\"pt\").squeeze().to(device)) for s in ctrl_str)"
   ]
  },
  {
   "cell_type": "code",
   "execution_count": 16,
   "metadata": {},
   "outputs": [
    {
     "data": {
      "text/plain": [
       "{'[negative]': tensor([   58, 31591,    60], device='cuda:0'),\n",
       " '[neutral]': tensor([   58, 29797,    60], device='cuda:0'),\n",
       " '[positive]': tensor([   58, 24561,    60], device='cuda:0')}"
      ]
     },
     "execution_count": 16,
     "metadata": {},
     "output_type": "execute_result"
    }
   ],
   "source": [
    "ctrl_tokens"
   ]
  },
  {
   "cell_type": "markdown",
   "metadata": {},
   "source": [
    "### Reward function"
   ]
  },
  {
   "cell_type": "code",
   "execution_count": 17,
   "metadata": {},
   "outputs": [],
   "source": [
    "def pos_logit_to_reward(logit, task):\n",
    "    \"\"\"\n",
    "    Take the positive sentiment logit and scale it for the task.\n",
    "        task [negative]: reward = -logit\n",
    "        task [neutral]: reward = -2*abs(logit)+4\n",
    "        task [positive]: reward = logit\n",
    "    \"\"\"\n",
    "    for i in range(len(logit)):\n",
    "        if task[i]=='[negative]':\n",
    "            logit[i] = -logit[i]\n",
    "        elif task[i]=='[neutral]':\n",
    "            logit[i] = -2*torch.abs(logit[i])+4\n",
    "        elif task[i]=='[positive]':\n",
    "            pass\n",
    "        else:\n",
    "            raise ValueError('task has to be in [0, 1, 2]!')\n",
    "    return logit"
   ]
  },
  {
   "cell_type": "markdown",
   "metadata": {},
   "source": [
    "The following examples show the rewards for the cases where the classifier logit is 4, -4 and 0 for the three targets `['negative]`, `['neutral]` and `['positive']`. The scaling is not perfect as it differs between neutral and the other two classes. This is something to further investigate in the future. Ideally, one would use the logit output for each class individually, but since there is no dedicated class for neutral this is a workaround."
   ]
  },
  {
   "cell_type": "code",
   "execution_count": 18,
   "metadata": {},
   "outputs": [
    {
     "name": "stdout",
     "output_type": "stream",
     "text": [
      "['[negative]', '[neutral]', '[positive]']\n"
     ]
    }
   ],
   "source": [
    "print(ctrl_str)"
   ]
  },
  {
   "cell_type": "code",
   "execution_count": 19,
   "metadata": {},
   "outputs": [
    {
     "data": {
      "text/plain": [
       "tensor([-4., -4.,  4.])"
      ]
     },
     "execution_count": 19,
     "metadata": {},
     "output_type": "execute_result"
    }
   ],
   "source": [
    "pos_logit_to_reward(torch.Tensor([4,4,4]), ctrl_str)"
   ]
  },
  {
   "cell_type": "code",
   "execution_count": 20,
   "metadata": {},
   "outputs": [
    {
     "data": {
      "text/plain": [
       "tensor([ 4., -4., -4.])"
      ]
     },
     "execution_count": 20,
     "metadata": {},
     "output_type": "execute_result"
    }
   ],
   "source": [
    "pos_logit_to_reward(torch.Tensor([-4,-4,-4]), ctrl_str)"
   ]
  },
  {
   "cell_type": "code",
   "execution_count": 21,
   "metadata": {},
   "outputs": [
    {
     "data": {
      "text/plain": [
       "tensor([-0., 4., 0.])"
      ]
     },
     "execution_count": 21,
     "metadata": {},
     "output_type": "execute_result"
    }
   ],
   "source": [
    "pos_logit_to_reward(torch.Tensor([0, 0, 0]), ctrl_str)"
   ]
  },
  {
   "cell_type": "markdown",
   "metadata": {},
   "source": [
    "## Optimize model"
   ]
  },
  {
   "cell_type": "markdown",
   "metadata": {},
   "source": [
    "**Steps**\n",
    "\n",
    "The training loop consists of the following steps:\n",
    "1. Get a batch of queries and create random controls\n",
    "2. Get the query responses from the policy\n",
    "3. Join query and responses and tokenize for BERT analysis\n",
    "4. Get sentiments for query/responses from BERT\n",
    "5. Optimize policy with PPO using the (query, response, reward) triplet\n",
    "6. Log all the training statistics\n",
    "\n",
    "**Forward batching**\n",
    "\n",
    "Since the models can be fairly big and we want to rollout large PPO batches this can lead to out-of-memory errors when doing the forward passes for text generation and sentiment analysis. We introduce the parameter `forward_batch_size` to split the forward passes into smaller batches. Although this hurts performance a little this is neglectible compared to the computations of the backward passes when optimizing the model. The same parameter is used in the `PPOTrainer` when doing forward passes. The `batch_size` should multiple of `forward_batch_size`.\n",
    "\n",
    "**Training time**\n",
    "\n",
    "This step takes **~2h** on a P6000 GPU with the above specified settings."
   ]
  },
  {
   "cell_type": "code",
   "execution_count": 22,
   "metadata": {},
   "outputs": [
    {
     "data": {
      "text/html": [
       "Finishing last run (ID:uu6c3ggi) before initializing another..."
      ],
      "text/plain": [
       "<IPython.core.display.HTML object>"
      ]
     },
     "metadata": {},
     "output_type": "display_data"
    },
    {
     "data": {
      "text/html": [
       "Waiting for W&B process to finish... <strong style=\"color:green\">(success).</strong>"
      ],
      "text/plain": [
       "<IPython.core.display.HTML object>"
      ]
     },
     "metadata": {},
     "output_type": "display_data"
    },
    {
     "data": {
      "text/html": [
       "Synced <strong style=\"color:#cdcd00\">long-response</strong>: <a href=\"https://wandb.ai/edbeeching/gpt2-ctrl/runs/uu6c3ggi\" target=\"_blank\">https://wandb.ai/edbeeching/gpt2-ctrl/runs/uu6c3ggi</a><br/>Synced 5 W&B file(s), 0 media file(s), 0 artifact file(s) and 0 other file(s)"
      ],
      "text/plain": [
       "<IPython.core.display.HTML object>"
      ]
     },
     "metadata": {},
     "output_type": "display_data"
    },
    {
     "data": {
      "text/html": [
       "Find logs at: <code>./wandb/run-20230106_115257-uu6c3ggi/logs</code>"
      ],
      "text/plain": [
       "<IPython.core.display.HTML object>"
      ]
     },
     "metadata": {},
     "output_type": "display_data"
    },
    {
     "data": {
      "text/html": [
       "Successfully finished last run (ID:uu6c3ggi). Initializing new run:<br/>"
      ],
      "text/plain": [
       "<IPython.core.display.HTML object>"
      ]
     },
     "metadata": {},
     "output_type": "display_data"
    },
    {
     "name": "stdout",
     "output_type": "stream",
     "text": [
      "huggingface/tokenizers: The current process just got forked, after parallelism has already been used. Disabling parallelism to avoid deadlocks...\n",
      "To disable this warning, you can either:\n",
      "\t- Avoid using `tokenizers` before the fork if possible\n",
      "\t- Explicitly set the environment variable TOKENIZERS_PARALLELISM=(true | false)\n"
     ]
    },
    {
     "data": {
      "text/html": [
       "Tracking run with wandb version 0.13.7"
      ],
      "text/plain": [
       "<IPython.core.display.HTML object>"
      ]
     },
     "metadata": {},
     "output_type": "display_data"
    },
    {
     "data": {
      "text/html": [
       "Run data is saved locally in <code>/home/edward/work/trl/examples/notebooks/wandb/run-20230106_115314-gijd4nfe</code>"
      ],
      "text/plain": [
       "<IPython.core.display.HTML object>"
      ]
     },
     "metadata": {},
     "output_type": "display_data"
    },
    {
     "data": {
      "text/html": [
       "Syncing run <strong><a href=\"https://wandb.ai/edbeeching/trl/runs/gijd4nfe\" target=\"_blank\">run-42</a></strong> to <a href=\"https://wandb.ai/edbeeching/trl\" target=\"_blank\">Weights & Biases</a> (<a href=\"https://wandb.me/run\" target=\"_blank\">docs</a>)<br/>"
      ],
      "text/plain": [
       "<IPython.core.display.HTML object>"
      ]
     },
     "metadata": {},
     "output_type": "display_data"
    },
    {
     "data": {
      "text/plain": [
       "DistilBertForSequenceClassification(\n",
       "  (distilbert): DistilBertModel(\n",
       "    (embeddings): Embeddings(\n",
       "      (word_embeddings): Embedding(30522, 768, padding_idx=0)\n",
       "      (position_embeddings): Embedding(512, 768)\n",
       "      (LayerNorm): LayerNorm((768,), eps=1e-12, elementwise_affine=True)\n",
       "      (dropout): Dropout(p=0.1, inplace=False)\n",
       "    )\n",
       "    (transformer): Transformer(\n",
       "      (layer): ModuleList(\n",
       "        (0): TransformerBlock(\n",
       "          (attention): MultiHeadSelfAttention(\n",
       "            (dropout): Dropout(p=0.1, inplace=False)\n",
       "            (q_lin): Linear(in_features=768, out_features=768, bias=True)\n",
       "            (k_lin): Linear(in_features=768, out_features=768, bias=True)\n",
       "            (v_lin): Linear(in_features=768, out_features=768, bias=True)\n",
       "            (out_lin): Linear(in_features=768, out_features=768, bias=True)\n",
       "          )\n",
       "          (sa_layer_norm): LayerNorm((768,), eps=1e-12, elementwise_affine=True)\n",
       "          (ffn): FFN(\n",
       "            (dropout): Dropout(p=0.1, inplace=False)\n",
       "            (lin1): Linear(in_features=768, out_features=3072, bias=True)\n",
       "            (lin2): Linear(in_features=3072, out_features=768, bias=True)\n",
       "            (activation): GELUActivation()\n",
       "          )\n",
       "          (output_layer_norm): LayerNorm((768,), eps=1e-12, elementwise_affine=True)\n",
       "        )\n",
       "        (1): TransformerBlock(\n",
       "          (attention): MultiHeadSelfAttention(\n",
       "            (dropout): Dropout(p=0.1, inplace=False)\n",
       "            (q_lin): Linear(in_features=768, out_features=768, bias=True)\n",
       "            (k_lin): Linear(in_features=768, out_features=768, bias=True)\n",
       "            (v_lin): Linear(in_features=768, out_features=768, bias=True)\n",
       "            (out_lin): Linear(in_features=768, out_features=768, bias=True)\n",
       "          )\n",
       "          (sa_layer_norm): LayerNorm((768,), eps=1e-12, elementwise_affine=True)\n",
       "          (ffn): FFN(\n",
       "            (dropout): Dropout(p=0.1, inplace=False)\n",
       "            (lin1): Linear(in_features=768, out_features=3072, bias=True)\n",
       "            (lin2): Linear(in_features=3072, out_features=768, bias=True)\n",
       "            (activation): GELUActivation()\n",
       "          )\n",
       "          (output_layer_norm): LayerNorm((768,), eps=1e-12, elementwise_affine=True)\n",
       "        )\n",
       "        (2): TransformerBlock(\n",
       "          (attention): MultiHeadSelfAttention(\n",
       "            (dropout): Dropout(p=0.1, inplace=False)\n",
       "            (q_lin): Linear(in_features=768, out_features=768, bias=True)\n",
       "            (k_lin): Linear(in_features=768, out_features=768, bias=True)\n",
       "            (v_lin): Linear(in_features=768, out_features=768, bias=True)\n",
       "            (out_lin): Linear(in_features=768, out_features=768, bias=True)\n",
       "          )\n",
       "          (sa_layer_norm): LayerNorm((768,), eps=1e-12, elementwise_affine=True)\n",
       "          (ffn): FFN(\n",
       "            (dropout): Dropout(p=0.1, inplace=False)\n",
       "            (lin1): Linear(in_features=768, out_features=3072, bias=True)\n",
       "            (lin2): Linear(in_features=3072, out_features=768, bias=True)\n",
       "            (activation): GELUActivation()\n",
       "          )\n",
       "          (output_layer_norm): LayerNorm((768,), eps=1e-12, elementwise_affine=True)\n",
       "        )\n",
       "        (3): TransformerBlock(\n",
       "          (attention): MultiHeadSelfAttention(\n",
       "            (dropout): Dropout(p=0.1, inplace=False)\n",
       "            (q_lin): Linear(in_features=768, out_features=768, bias=True)\n",
       "            (k_lin): Linear(in_features=768, out_features=768, bias=True)\n",
       "            (v_lin): Linear(in_features=768, out_features=768, bias=True)\n",
       "            (out_lin): Linear(in_features=768, out_features=768, bias=True)\n",
       "          )\n",
       "          (sa_layer_norm): LayerNorm((768,), eps=1e-12, elementwise_affine=True)\n",
       "          (ffn): FFN(\n",
       "            (dropout): Dropout(p=0.1, inplace=False)\n",
       "            (lin1): Linear(in_features=768, out_features=3072, bias=True)\n",
       "            (lin2): Linear(in_features=3072, out_features=768, bias=True)\n",
       "            (activation): GELUActivation()\n",
       "          )\n",
       "          (output_layer_norm): LayerNorm((768,), eps=1e-12, elementwise_affine=True)\n",
       "        )\n",
       "        (4): TransformerBlock(\n",
       "          (attention): MultiHeadSelfAttention(\n",
       "            (dropout): Dropout(p=0.1, inplace=False)\n",
       "            (q_lin): Linear(in_features=768, out_features=768, bias=True)\n",
       "            (k_lin): Linear(in_features=768, out_features=768, bias=True)\n",
       "            (v_lin): Linear(in_features=768, out_features=768, bias=True)\n",
       "            (out_lin): Linear(in_features=768, out_features=768, bias=True)\n",
       "          )\n",
       "          (sa_layer_norm): LayerNorm((768,), eps=1e-12, elementwise_affine=True)\n",
       "          (ffn): FFN(\n",
       "            (dropout): Dropout(p=0.1, inplace=False)\n",
       "            (lin1): Linear(in_features=768, out_features=3072, bias=True)\n",
       "            (lin2): Linear(in_features=3072, out_features=768, bias=True)\n",
       "            (activation): GELUActivation()\n",
       "          )\n",
       "          (output_layer_norm): LayerNorm((768,), eps=1e-12, elementwise_affine=True)\n",
       "        )\n",
       "        (5): TransformerBlock(\n",
       "          (attention): MultiHeadSelfAttention(\n",
       "            (dropout): Dropout(p=0.1, inplace=False)\n",
       "            (q_lin): Linear(in_features=768, out_features=768, bias=True)\n",
       "            (k_lin): Linear(in_features=768, out_features=768, bias=True)\n",
       "            (v_lin): Linear(in_features=768, out_features=768, bias=True)\n",
       "            (out_lin): Linear(in_features=768, out_features=768, bias=True)\n",
       "          )\n",
       "          (sa_layer_norm): LayerNorm((768,), eps=1e-12, elementwise_affine=True)\n",
       "          (ffn): FFN(\n",
       "            (dropout): Dropout(p=0.1, inplace=False)\n",
       "            (lin1): Linear(in_features=768, out_features=3072, bias=True)\n",
       "            (lin2): Linear(in_features=3072, out_features=768, bias=True)\n",
       "            (activation): GELUActivation()\n",
       "          )\n",
       "          (output_layer_norm): LayerNorm((768,), eps=1e-12, elementwise_affine=True)\n",
       "        )\n",
       "      )\n",
       "    )\n",
       "  )\n",
       "  (pre_classifier): Linear(in_features=768, out_features=768, bias=True)\n",
       "  (classifier): Linear(in_features=768, out_features=2, bias=True)\n",
       "  (dropout): Dropout(p=0.2, inplace=False)\n",
       ")"
      ]
     },
     "execution_count": 22,
     "metadata": {},
     "output_type": "execute_result"
    }
   ],
   "source": [
    "ppo_trainer = PPOTrainer(config, gpt2_model, gpt2_model_ref, gpt2_tokenizer, ds)\n",
    "# move the sentiment model to the GPU\n",
    "sentiment_model.to(device)"
   ]
  },
  {
   "cell_type": "code",
   "execution_count": 23,
   "metadata": {},
   "outputs": [
    {
     "name": "stderr",
     "output_type": "stream",
     "text": [
      "  0%|          | 0/100 [00:00<?, ?it/s]"
     ]
    }
   ],
   "source": [
    "fbs = config.forward_batch_size\n",
    "num_epochs = int(np.ceil(config.steps/config.batch_size))\n",
    "\n",
    "for epoch, batch in zip(tqdm(range(num_epochs)), ppo_trainer.dataloader):\n",
    "    torch.cuda.empty_cache()\n",
    "    logs = dict()\n",
    "    game_data = dict()\n",
    "    timing = dict()\n",
    "    t0 = time.time()\n",
    "    \n",
    "    task_list = choices(ctrl_str, k=config.batch_size)\n",
    "    task_tensors = torch.stack([ctrl_tokens[t] for t in task_list])\n",
    "    query_list = batch['query']\n",
    "    game_data['query'] = [t+q for t,q in zip(task_list, query_list)]\n",
    "    \n",
    "    query_tensors = torch.stack(batch['tokens'], axis=1)\n",
    "    query_tensors = torch.cat((task_tensors, query_tensors), axis=1)\n",
    "    \n",
    "    #### get response from gpt2\n",
    "    t = time.time()\n",
    "    response_tensors = []\n",
    "    for i in range(int(config.batch_size/fbs)):\n",
    "        response  = respond_to_batch(gpt2_model, query_tensors[i*fbs:(i+1)*fbs],\n",
    "                                     txt_len=sentiment_config['txt_out_len'])\n",
    "        response_tensors.append(response)\n",
    "    response_tensors = torch.cat(response_tensors)\n",
    "    game_data['response'] = [gpt2_tokenizer.decode(response_tensors[i, :]) for i in range(config.batch_size)]\n",
    "    timing['time/get_response'] = time.time()-t\n",
    "\n",
    "    #### tokenize text for sentiment analysis\n",
    "    t = time.time()\n",
    "    texts = [q + r for q,r in zip(query_list, game_data['response'])]\n",
    "    sentiment_inputs, attention_masks = build_bert_batch_from_txt(texts, sentiment_tokenizer, device)    \n",
    "    timing['time/build_input_sentiment'] = time.time()-t\n",
    "\n",
    "    #### get sentiment score\n",
    "    t = time.time()\n",
    "    pos_logits = []\n",
    "    for i in range(int(config.batch_size/fbs)):\n",
    "        res = sentiment_model.forward(sentiment_inputs[i*fbs:(i+1)*fbs],\n",
    "                                      attention_masks[i*fbs:(i+1)*fbs])[0][:, 1].detach()\n",
    "        pos_logits.append(res)\n",
    "    rewards = pos_logit_to_reward(torch.cat(pos_logits), task_list)\n",
    "    timing['time/get_sentiment_preds'] = time.time()-t\n",
    "\n",
    "    #### Run PPO training \n",
    "    t = time.time()\n",
    "    stats = ppo_trainer.step([q for q in query_tensors], [res for res in response_tensors], [r for r in rewards])\n",
    "    timing['time/optimization'] = time.time()-t\n",
    "     \n",
    "    #### Log everything\n",
    "    timing['time/epoch'] = time.time()-t0\n",
    "    table_rows = [list(r) for r in zip(game_data['query'], game_data['response'], rewards.cpu().tolist())]\n",
    "    logs.update({'game_log':wandb.Table(\n",
    "        columns=['query', 'response', 'reward'],\n",
    "        rows=table_rows)})\n",
    "    logs.update(timing)\n",
    "    logs.update(stats)\n",
    "    logs['env/reward_mean'] = torch.mean(rewards).cpu().numpy()\n",
    "    logs['env/reward_std'] = torch.std(rewards).cpu().numpy()\n",
    "    logs['env/reward_dist'] = rewards.cpu().numpy()\n",
    "    for ctrl_s in ctrl_str:\n",
    "        key = 'env/reward_'+ctrl_s.strip('[]')\n",
    "        logs[key] = np.mean([r for r, t in zip(logs['env/reward_dist'], task_list) if t==ctrl_s])\n",
    "    wandb.log(logs)"
   ]
  },
  {
   "cell_type": "markdown",
   "metadata": {},
   "source": [
    "### Training progress\n",
    "If you are tracking the training progress with Weights&Biases you should see a plot similar to the following:\n",
    "\n",
    "<div style=\"text-align: center\">\n",
    "<img src='https://huggingface.co/datasets/trl-internal-testing/example-images/resolve/main/images/gpt2-ctrl-training-stats.png' width='800'>\n",
    "<p style=\"text-align: center;\"> <b>Figure:</b> Reward mean and distribution evolution during training. </p>\n",
    "</div>\n",
    "\n",
    "One can observe how the model starts to generate more positive outputs after a few optimisation steps.\n",
    "\n",
    "> Note: Investigating the KL-divergence will probably show that at this point the model has not converged to the target KL-divergence, yet. To get there would require longer training or starting with a higher inital coefficient."
   ]
  },
  {
   "cell_type": "markdown",
   "metadata": {},
   "source": [
    "## Model inspection"
   ]
  },
  {
   "cell_type": "markdown",
   "metadata": {},
   "source": [
    "### Reward distribution\n",
    "First, we can have a look at the reward distribution. Both the negative and positive rewards are clearly shifted to high rewards. The neutral rewards, however, are still centered around zero. There are a few possible explanations for this. There could be a bug in the code and the way the neutral rewards are calculated. Another problem could be that sentence sometimes start with a strong sentiment and it is hard for the model shift the sentiment towards neutral."
   ]
  },
  {
   "cell_type": "code",
   "execution_count": 24,
   "metadata": {},
   "outputs": [
    {
     "data": {
      "image/png": "[encoded data removed]",
      "text/plain": [
       "<Figure size 640x480 with 1 Axes>"
      ]
     },
     "metadata": {},
     "output_type": "display_data"
    }
   ],
   "source": [
    "for ctrl_s in ctrl_str:\n",
    "    plt.hist([r for r, t in zip(logs['env/reward_dist'], task_list) if t==ctrl_s],\n",
    "             density=True,\n",
    "             alpha=0.5,\n",
    "             label=ctrl_s)\n",
    "plt.legend(loc='best')\n",
    "plt.title('reward distribution')\n",
    "plt.grid(True)\n",
    "plt.show()"
   ]
  },
  {
   "cell_type": "markdown",
   "metadata": {},
   "source": [
    "### Examples"
   ]
  },
  {
   "cell_type": "code",
   "execution_count": 32,
   "metadata": {},
   "outputs": [
    {
     "data": {
      "text/html": [
       "<div>\n",
       "<style scoped>\n",
       "    .dataframe tbody tr th:only-of-type {\n",
       "        vertical-align: middle;\n",
       "    }\n",
       "\n",
       "    .dataframe tbody tr th {\n",
       "        vertical-align: top;\n",
       "    }\n",
       "\n",
       "    .dataframe thead th {\n",
       "        text-align: right;\n",
       "    }\n",
       "</style>\n",
       "<table border=\"1\" class=\"dataframe\">\n",
       "  <thead>\n",
       "    <tr style=\"text-align: right;\">\n",
       "      <th></th>\n",
       "      <th>query</th>\n",
       "      <th>response [negative]</th>\n",
       "      <th>rewards [negative]</th>\n",
       "      <th>response [neutral]</th>\n",
       "      <th>rewards [neutral]</th>\n",
       "      <th>response [positive]</th>\n",
       "      <th>rewards [positive]</th>\n",
       "    </tr>\n",
       "  </thead>\n",
       "  <tbody>\n",
       "    <tr>\n",
       "      <th>0</th>\n",
       "      <td>Another of many nearly forgotten</td>\n",
       "      <td>feminist talk comedians, Robin Williams.&lt;br /...</td>\n",
       "      <td>0.280530</td>\n",
       "      <td>songs.&lt;br /&gt;&lt;br /&gt;4From The Inside 'When I Up...</td>\n",
       "      <td>2.913022</td>\n",
       "      <td>films from studio /- releasing/\"picture up\", ...</td>\n",
       "      <td>1.048863</td>\n",
       "    </tr>\n",
       "    <tr>\n",
       "      <th>1</th>\n",
       "      <td>You know what you are</td>\n",
       "      <td>going through right? I wasn't lying, if you h...</td>\n",
       "      <td>-0.043931</td>\n",
       "      <td>gonna do when you see him.&lt;br /&gt;&lt;br /&gt;&lt;|endof...</td>\n",
       "      <td>-1.065712</td>\n",
       "      <td>after ends. Being uncomfortable with it not t...</td>\n",
       "      <td>-1.445243</td>\n",
       "    </tr>\n",
       "    <tr>\n",
       "      <th>2</th>\n",
       "      <td>Back when I was a</td>\n",
       "      <td>child, my parents treated us with the respect...</td>\n",
       "      <td>-2.093937</td>\n",
       "      <td>kid, the love scene was some subway protocols...</td>\n",
       "      <td>3.284955</td>\n",
       "      <td>kid James Bros was the electric house attenda...</td>\n",
       "      <td>0.407532</td>\n",
       "    </tr>\n",
       "    <tr>\n",
       "      <th>3</th>\n",
       "      <td>This is how I feel</td>\n",
       "      <td>! It is an all it all Steven Spielberg and a g...</td>\n",
       "      <td>-2.172645</td>\n",
       "      <td>about things.&lt;br /&gt;More overtly pan fishing s...</td>\n",
       "      <td>2.650187</td>\n",
       "      <td>about current climate and planet: I don't und...</td>\n",
       "      <td>1.060370</td>\n",
       "    </tr>\n",
       "    <tr>\n",
       "      <th>4</th>\n",
       "      <td>As a disclaimer, I</td>\n",
       "      <td>realize this is not convincing in realism, hi...</td>\n",
       "      <td>1.785219</td>\n",
       "      <td>do disagree with many critics that say the \"p...</td>\n",
       "      <td>2.895351</td>\n",
       "      <td>'m sure you understand not how religious (!) i...</td>\n",
       "      <td>-0.093543</td>\n",
       "    </tr>\n",
       "    <tr>\n",
       "      <th>5</th>\n",
       "      <td>I really liked ZB</td>\n",
       "      <td>MA today, you can't thank me for that.&lt;br /&gt;&lt;b...</td>\n",
       "      <td>-1.290990</td>\n",
       "      <td>Theatre&lt;br /&gt;&lt;br /&gt;Nataschait komeba and char...</td>\n",
       "      <td>0.547615</td>\n",
       "      <td>OT and her whole life is really cinema! I also...</td>\n",
       "      <td>2.184283</td>\n",
       "    </tr>\n",
       "    <tr>\n",
       "      <th>6</th>\n",
       "      <td>\"El Mar\" directed</td>\n",
       "      <td>by Bernardin S.Chandler makes an honest, but ...</td>\n",
       "      <td>-2.382786</td>\n",
       "      <td>Harry Potter \"A Long Journey Home\" for Adelbe...</td>\n",
       "      <td>2.756234</td>\n",
       "      <td>this film for CJ clips, with the scene in the...</td>\n",
       "      <td>-0.173763</td>\n",
       "    </tr>\n",
       "    <tr>\n",
       "      <th>7</th>\n",
       "      <td>Basically a typical propaganda film</td>\n",
       "      <td>looking remake of the original film. In one p...</td>\n",
       "      <td>1.445650</td>\n",
       "      <td>starring the portraits of an American dead wo...</td>\n",
       "      <td>0.219528</td>\n",
       "      <td>. The people who gave it to him are convicted ...</td>\n",
       "      <td>-0.604807</td>\n",
       "    </tr>\n",
       "    <tr>\n",
       "      <th>8</th>\n",
       "      <td>Hi, I'm a</td>\n",
       "      <td>longtime supporter of Gov. Norell.&lt;br /&gt;&lt;br /...</td>\n",
       "      <td>0.856176</td>\n",
       "      <td>Hawaiian, because I'm a fluent Q&amp;Aing! Looks ...</td>\n",
       "      <td>2.774780</td>\n",
       "      <td>fan of slasher films documentary freshest ple...</td>\n",
       "      <td>-1.166285</td>\n",
       "    </tr>\n",
       "    <tr>\n",
       "      <th>9</th>\n",
       "      <td>The TV guide described the</td>\n",
       "      <td>victim pool as Yickson Park right), the Polic...</td>\n",
       "      <td>0.688210</td>\n",
       "      <td>pirate ship Starfleet's skies as that of Heav...</td>\n",
       "      <td>3.339966</td>\n",
       "      <td>corpse as approximately 5ft tall, wearing fal...</td>\n",
       "      <td>-0.995116</td>\n",
       "    </tr>\n",
       "    <tr>\n",
       "      <th>10</th>\n",
       "      <td>Wealthy psychiatrist Lindsay C</td>\n",
       "      <td>. Wilson (when pronounced \"Ell\" even. He was G...</td>\n",
       "      <td>0.676658</td>\n",
       "      <td>rouse becomes a 'victim/reporter' when his ear...</td>\n",
       "      <td>2.491199</td>\n",
       "      <td>uzigny (remember this)mavericks in Goldbergy's...</td>\n",
       "      <td>-0.016478</td>\n",
       "    </tr>\n",
       "    <tr>\n",
       "      <th>11</th>\n",
       "      <td>Even by 1942 standards of</td>\n",
       "      <td>this should have been a fine group of charact...</td>\n",
       "      <td>-1.030303</td>\n",
       "      <td>the film theatre face no issue with the atroc...</td>\n",
       "      <td>3.755201</td>\n",
       "      <td>many BBC dramas you thought the film was a re...</td>\n",
       "      <td>-2.403454</td>\n",
       "    </tr>\n",
       "    <tr>\n",
       "      <th>12</th>\n",
       "      <td>This version of \"M</td>\n",
       "      <td>asters of Symmetry\", by Robert S. Miniti, drew...</td>\n",
       "      <td>-2.380217</td>\n",
       "      <td>'Horde!\" follows a retelling of \"Ram Link's Ha...</td>\n",
       "      <td>3.571912</td>\n",
       "      <td>GM's\" - which have nice visuals, and terrible ...</td>\n",
       "      <td>-2.390515</td>\n",
       "    </tr>\n",
       "    <tr>\n",
       "      <th>13</th>\n",
       "      <td>The first Cube movie was</td>\n",
       "      <td>not bad none, ( any movie or collection or it...</td>\n",
       "      <td>2.154188</td>\n",
       "      <td>\"Click Comparison\", introducing radical liber...</td>\n",
       "      <td>3.287050</td>\n",
       "      <td>that sexual things, not the being female airp...</td>\n",
       "      <td>0.381966</td>\n",
       "    </tr>\n",
       "    <tr>\n",
       "      <th>14</th>\n",
       "      <td>The good news is a</td>\n",
       "      <td>strong supporting cast.&lt;br /&gt;&lt;br /&gt;This set s...</td>\n",
       "      <td>-1.087221</td>\n",
       "      <td>lot of people still recognize the name Sidney...</td>\n",
       "      <td>3.388952</td>\n",
       "      <td>kid, an au belle star in a baggy teddy bear c...</td>\n",
       "      <td>0.386158</td>\n",
       "    </tr>\n",
       "    <tr>\n",
       "      <th>15</th>\n",
       "      <td>\"Laugh, Clown</td>\n",
       "      <td>, I'll cut myself\" there is nothing in the mov...</td>\n",
       "      <td>2.158686</td>\n",
       "      <td>! Look at me!\" \"A man is to Homer the cat, giv...</td>\n",
       "      <td>3.299310</td>\n",
       "      <td>s!\" \"The Pink Pony\" For my mark, this film was...</td>\n",
       "      <td>-0.040947</td>\n",
       "    </tr>\n",
       "    <tr>\n",
       "      <th>16</th>\n",
       "      <td>What a fantastic premise:</td>\n",
       "      <td>Buda Whither, grieving after Dad's killer Mal...</td>\n",
       "      <td>-1.311133</td>\n",
       "      <td>For years after the finals of the season, sid...</td>\n",
       "      <td>0.173112</td>\n",
       "      <td>playing male flunky: that's what the game is ...</td>\n",
       "      <td>1.503913</td>\n",
       "    </tr>\n",
       "    <tr>\n",
       "      <th>17</th>\n",
       "      <td>It's impossible for me</td>\n",
       "      <td>to picture ever famous cat-or-mouse encounter...</td>\n",
       "      <td>1.769804</td>\n",
       "      <td>to know why.&lt;br /&gt;&lt;br&gt;&lt;br /&gt;carit cameramen q...</td>\n",
       "      <td>0.132361</td>\n",
       "      <td>to hate Jeffrey Tepoe. I probably wouldn't ev...</td>\n",
       "      <td>1.432445</td>\n",
       "    </tr>\n",
       "    <tr>\n",
       "      <th>18</th>\n",
       "      <td>One wonders how the script</td>\n",
       "      <td>was \"retitled\" as the science fiction-y '30s ...</td>\n",
       "      <td>-0.609559</td>\n",
       "      <td>would have fared on the C reference. \"Judy St...</td>\n",
       "      <td>1.899734</td>\n",
       "      <td>animates him. No doubt he couldn't fly becaus...</td>\n",
       "      <td>0.128260</td>\n",
       "    </tr>\n",
       "    <tr>\n",
       "      <th>19</th>\n",
       "      <td>The first was good and</td>\n",
       "      <td>the second was bad.&lt;|endoftext|&gt; Dave certain...</td>\n",
       "      <td>1.571108</td>\n",
       "      <td>for the most part it delivered a good time, w...</td>\n",
       "      <td>-0.732803</td>\n",
       "      <td>...the negatives were the same bad actor's had...</td>\n",
       "      <td>-1.807638</td>\n",
       "    </tr>\n",
       "    <tr>\n",
       "      <th>20</th>\n",
       "      <td>As usual, i went</td>\n",
       "      <td>with the variety, because it was the perfect ...</td>\n",
       "      <td>-2.482688</td>\n",
       "      <td>without pirate clothing and underwear. sworde...</td>\n",
       "      <td>0.838043</td>\n",
       "      <td>rusty and ended up with a lot of stitches, sp...</td>\n",
       "      <td>-1.576738</td>\n",
       "    </tr>\n",
       "    <tr>\n",
       "      <th>21</th>\n",
       "      <td>I saw this at an</td>\n",
       "      <td>interesting industry event in a plane south-w...</td>\n",
       "      <td>-1.650712</td>\n",
       "      <td>art-house in Theatre France -- normally where...</td>\n",
       "      <td>3.435011</td>\n",
       "      <td>academy in Switzerland. It was dismissal to t...</td>\n",
       "      <td>0.809835</td>\n",
       "    </tr>\n",
       "    <tr>\n",
       "      <th>22</th>\n",
       "      <td>I don't care how</td>\n",
       "      <td>good this movie is, actors and producer Shane...</td>\n",
       "      <td>1.387851</td>\n",
       "      <td>much patient I get.&lt;br /&gt;&lt;br /&gt;My advice: don...</td>\n",
       "      <td>0.551754</td>\n",
       "      <td>bad a curve is or how hot it blows, you're be...</td>\n",
       "      <td>-1.214200</td>\n",
       "    </tr>\n",
       "    <tr>\n",
       "      <th>23</th>\n",
       "      <td>There isn't more I</td>\n",
       "      <td>can do. Monica. Jaybick [I give this a 4 for ...</td>\n",
       "      <td>0.874615</td>\n",
       "      <td>would love that I never hear.&lt;br /&gt;&lt;br /&gt;Yet....</td>\n",
       "      <td>-0.621794</td>\n",
       "      <td>can do, I hope somebody will feel especially ...</td>\n",
       "      <td>-2.809928</td>\n",
       "    </tr>\n",
       "    <tr>\n",
       "      <th>24</th>\n",
       "      <td>A very realistic portrait of</td>\n",
       "      <td>an extraordinary man. &lt;br /&gt;&lt;br /&gt;Fatima is f...</td>\n",
       "      <td>-2.808591</td>\n",
       "      <td>the underworld. Zinnen Plots is in a terrific...</td>\n",
       "      <td>-1.706330</td>\n",
       "      <td>the periods I grew up in and one with excelle...</td>\n",
       "      <td>2.857334</td>\n",
       "    </tr>\n",
       "    <tr>\n",
       "      <th>25</th>\n",
       "      <td>THE ZOMBIE</td>\n",
       "      <td>&lt;br /&gt;&lt;br /&gt;Shooting and editing. The plot doe...</td>\n",
       "      <td>1.874050</td>\n",
       "      <td>THAT KILLED SRI?! &lt;br /&gt;&lt;br&gt;&lt;br /&gt;at chest al...</td>\n",
       "      <td>1.087164</td>\n",
       "      <td>. &lt;br /&gt;May 6, 1999 Lamb quit television. Bo's...</td>\n",
       "      <td>-2.044874</td>\n",
       "    </tr>\n",
       "    <tr>\n",
       "      <th>26</th>\n",
       "      <td>I argued with myself whether</td>\n",
       "      <td>the flesh of death was just me, or the blood ...</td>\n",
       "      <td>1.037722</td>\n",
       "      <td>it was ports beer and the cast of \"Barry\", or...</td>\n",
       "      <td>1.210505</td>\n",
       "      <td>or not this do or not.Which one oflin snap on...</td>\n",
       "      <td>-1.348282</td>\n",
       "    </tr>\n",
       "    <tr>\n",
       "      <th>27</th>\n",
       "      <td>I just saw this delightful</td>\n",
       "      <td>satire about the Light and Color Society. Tha...</td>\n",
       "      <td>-2.585406</td>\n",
       "      <td>horror film and hope that movies like Chau In...</td>\n",
       "      <td>-1.288388</td>\n",
       "      <td>film. A young actress and reverent director d...</td>\n",
       "      <td>2.204003</td>\n",
       "    </tr>\n",
       "    <tr>\n",
       "      <th>28</th>\n",
       "      <td>This film was so disappointing</td>\n",
       "      <td>that I thought it would be just filler for Jo...</td>\n",
       "      <td>2.955179</td>\n",
       "      <td>because at least John Wayne didn't die and hi...</td>\n",
       "      <td>-1.290699</td>\n",
       "      <td>that fringe shows like \"I Love Lucy\" and \"How...</td>\n",
       "      <td>-0.506779</td>\n",
       "    </tr>\n",
       "    <tr>\n",
       "      <th>29</th>\n",
       "      <td>I just saw this last</td>\n",
       "      <td>week and I am absolutely disgusted with E&lt;|en...</td>\n",
       "      <td>1.041864</td>\n",
       "      <td>night at SS, and I was surprised to see a dir...</td>\n",
       "      <td>0.628894</td>\n",
       "      <td>night in the thirties and glee in the movies ...</td>\n",
       "      <td>2.026452</td>\n",
       "    </tr>\n",
       "    <tr>\n",
       "      <th>30</th>\n",
       "      <td>Ever wanted to eat worms</td>\n",
       "      <td>? Sometimes I was prepared to bite a bite.&lt;br ...</td>\n",
       "      <td>1.134624</td>\n",
       "      <td>? Maybe that would satisfy you...&lt;br /&gt;&lt;br /&gt;A...</td>\n",
       "      <td>3.933748</td>\n",
       "      <td>? Not to worry about it.&lt;br /&gt;&lt;br /&gt;But you su...</td>\n",
       "      <td>0.582688</td>\n",
       "    </tr>\n",
       "    <tr>\n",
       "      <th>31</th>\n",
       "      <td>What can I say about</td>\n",
       "      <td>the story? After about 10s of characters and ...</td>\n",
       "      <td>0.553736</td>\n",
       "      <td>deserted ruins? The word \"ios\" stands for ble...</td>\n",
       "      <td>2.086393</td>\n",
       "      <td>this show that I genuinely feel insecurities ...</td>\n",
       "      <td>-0.122780</td>\n",
       "    </tr>\n",
       "  </tbody>\n",
       "</table>\n",
       "</div>"
      ],
      "text/plain": [
       "                                   query  \\\n",
       "0       Another of many nearly forgotten   \n",
       "1                  You know what you are   \n",
       "2                      Back when I was a   \n",
       "3                     This is how I feel   \n",
       "4                     As a disclaimer, I   \n",
       "5                      I really liked ZB   \n",
       "6                      \"El Mar\" directed   \n",
       "7    Basically a typical propaganda film   \n",
       "8                              Hi, I'm a   \n",
       "9             The TV guide described the   \n",
       "10        Wealthy psychiatrist Lindsay C   \n",
       "11             Even by 1942 standards of   \n",
       "12                    This version of \"M   \n",
       "13              The first Cube movie was   \n",
       "14                    The good news is a   \n",
       "15                         \"Laugh, Clown   \n",
       "16             What a fantastic premise:   \n",
       "17                It's impossible for me   \n",
       "18            One wonders how the script   \n",
       "19                The first was good and   \n",
       "20                      As usual, i went   \n",
       "21                      I saw this at an   \n",
       "22                      I don't care how   \n",
       "23                    There isn't more I   \n",
       "24          A very realistic portrait of   \n",
       "25                            THE ZOMBIE   \n",
       "26          I argued with myself whether   \n",
       "27            I just saw this delightful   \n",
       "28        This film was so disappointing   \n",
       "29                  I just saw this last   \n",
       "30              Ever wanted to eat worms   \n",
       "31                  What can I say about   \n",
       "\n",
       "                                  response [negative]  rewards [negative]  \\\n",
       "0    feminist talk comedians, Robin Williams.<br /...            0.280530   \n",
       "1    going through right? I wasn't lying, if you h...           -0.043931   \n",
       "2    child, my parents treated us with the respect...           -2.093937   \n",
       "3   ! It is an all it all Steven Spielberg and a g...           -2.172645   \n",
       "4    realize this is not convincing in realism, hi...            1.785219   \n",
       "5   MA today, you can't thank me for that.<br /><b...           -1.290990   \n",
       "6    by Bernardin S.Chandler makes an honest, but ...           -2.382786   \n",
       "7    looking remake of the original film. In one p...            1.445650   \n",
       "8    longtime supporter of Gov. Norell.<br /><br /...            0.856176   \n",
       "9    victim pool as Yickson Park right), the Polic...            0.688210   \n",
       "10  . Wilson (when pronounced \"Ell\" even. He was G...            0.676658   \n",
       "11   this should have been a fine group of charact...           -1.030303   \n",
       "12  asters of Symmetry\", by Robert S. Miniti, drew...           -2.380217   \n",
       "13   not bad none, ( any movie or collection or it...            2.154188   \n",
       "14   strong supporting cast.<br /><br />This set s...           -1.087221   \n",
       "15  , I'll cut myself\" there is nothing in the mov...            2.158686   \n",
       "16   Buda Whither, grieving after Dad's killer Mal...           -1.311133   \n",
       "17   to picture ever famous cat-or-mouse encounter...            1.769804   \n",
       "18   was \"retitled\" as the science fiction-y '30s ...           -0.609559   \n",
       "19   the second was bad.<|endoftext|> Dave certain...            1.571108   \n",
       "20   with the variety, because it was the perfect ...           -2.482688   \n",
       "21   interesting industry event in a plane south-w...           -1.650712   \n",
       "22   good this movie is, actors and producer Shane...            1.387851   \n",
       "23   can do. Monica. Jaybick [I give this a 4 for ...            0.874615   \n",
       "24   an extraordinary man. <br /><br />Fatima is f...           -2.808591   \n",
       "25  <br /><br />Shooting and editing. The plot doe...            1.874050   \n",
       "26   the flesh of death was just me, or the blood ...            1.037722   \n",
       "27   satire about the Light and Color Society. Tha...           -2.585406   \n",
       "28   that I thought it would be just filler for Jo...            2.955179   \n",
       "29   week and I am absolutely disgusted with E<|en...            1.041864   \n",
       "30  ? Sometimes I was prepared to bite a bite.<br ...            1.134624   \n",
       "31   the story? After about 10s of characters and ...            0.553736   \n",
       "\n",
       "                                   response [neutral]  rewards [neutral]  \\\n",
       "0    songs.<br /><br />4From The Inside 'When I Up...           2.913022   \n",
       "1    gonna do when you see him.<br /><br /><|endof...          -1.065712   \n",
       "2    kid, the love scene was some subway protocols...           3.284955   \n",
       "3    about things.<br />More overtly pan fishing s...           2.650187   \n",
       "4    do disagree with many critics that say the \"p...           2.895351   \n",
       "5    Theatre<br /><br />Nataschait komeba and char...           0.547615   \n",
       "6    Harry Potter \"A Long Journey Home\" for Adelbe...           2.756234   \n",
       "7    starring the portraits of an American dead wo...           0.219528   \n",
       "8    Hawaiian, because I'm a fluent Q&Aing! Looks ...           2.774780   \n",
       "9    pirate ship Starfleet's skies as that of Heav...           3.339966   \n",
       "10  rouse becomes a 'victim/reporter' when his ear...           2.491199   \n",
       "11   the film theatre face no issue with the atroc...           3.755201   \n",
       "12  'Horde!\" follows a retelling of \"Ram Link's Ha...           3.571912   \n",
       "13   \"Click Comparison\", introducing radical liber...           3.287050   \n",
       "14   lot of people still recognize the name Sidney...           3.388952   \n",
       "15  ! Look at me!\" \"A man is to Homer the cat, giv...           3.299310   \n",
       "16   For years after the finals of the season, sid...           0.173112   \n",
       "17   to know why.<br /><br><br />carit cameramen q...           0.132361   \n",
       "18   would have fared on the C reference. \"Judy St...           1.899734   \n",
       "19   for the most part it delivered a good time, w...          -0.732803   \n",
       "20   without pirate clothing and underwear. sworde...           0.838043   \n",
       "21   art-house in Theatre France -- normally where...           3.435011   \n",
       "22   much patient I get.<br /><br />My advice: don...           0.551754   \n",
       "23   would love that I never hear.<br /><br />Yet....          -0.621794   \n",
       "24   the underworld. Zinnen Plots is in a terrific...          -1.706330   \n",
       "25   THAT KILLED SRI?! <br /><br><br />at chest al...           1.087164   \n",
       "26   it was ports beer and the cast of \"Barry\", or...           1.210505   \n",
       "27   horror film and hope that movies like Chau In...          -1.288388   \n",
       "28   because at least John Wayne didn't die and hi...          -1.290699   \n",
       "29   night at SS, and I was surprised to see a dir...           0.628894   \n",
       "30  ? Maybe that would satisfy you...<br /><br />A...           3.933748   \n",
       "31   deserted ruins? The word \"ios\" stands for ble...           2.086393   \n",
       "\n",
       "                                  response [positive]  rewards [positive]  \n",
       "0    films from studio /- releasing/\"picture up\", ...            1.048863  \n",
       "1    after ends. Being uncomfortable with it not t...           -1.445243  \n",
       "2    kid James Bros was the electric house attenda...            0.407532  \n",
       "3    about current climate and planet: I don't und...            1.060370  \n",
       "4   'm sure you understand not how religious (!) i...           -0.093543  \n",
       "5   OT and her whole life is really cinema! I also...            2.184283  \n",
       "6    this film for CJ clips, with the scene in the...           -0.173763  \n",
       "7   . The people who gave it to him are convicted ...           -0.604807  \n",
       "8    fan of slasher films documentary freshest ple...           -1.166285  \n",
       "9    corpse as approximately 5ft tall, wearing fal...           -0.995116  \n",
       "10  uzigny (remember this)mavericks in Goldbergy's...           -0.016478  \n",
       "11   many BBC dramas you thought the film was a re...           -2.403454  \n",
       "12  GM's\" - which have nice visuals, and terrible ...           -2.390515  \n",
       "13   that sexual things, not the being female airp...            0.381966  \n",
       "14   kid, an au belle star in a baggy teddy bear c...            0.386158  \n",
       "15  s!\" \"The Pink Pony\" For my mark, this film was...           -0.040947  \n",
       "16   playing male flunky: that's what the game is ...            1.503913  \n",
       "17   to hate Jeffrey Tepoe. I probably wouldn't ev...            1.432445  \n",
       "18   animates him. No doubt he couldn't fly becaus...            0.128260  \n",
       "19  ...the negatives were the same bad actor's had...           -1.807638  \n",
       "20   rusty and ended up with a lot of stitches, sp...           -1.576738  \n",
       "21   academy in Switzerland. It was dismissal to t...            0.809835  \n",
       "22   bad a curve is or how hot it blows, you're be...           -1.214200  \n",
       "23   can do, I hope somebody will feel especially ...           -2.809928  \n",
       "24   the periods I grew up in and one with excelle...            2.857334  \n",
       "25  . <br />May 6, 1999 Lamb quit television. Bo's...           -2.044874  \n",
       "26   or not this do or not.Which one oflin snap on...           -1.348282  \n",
       "27   film. A young actress and reverent director d...            2.204003  \n",
       "28   that fringe shows like \"I Love Lucy\" and \"How...           -0.506779  \n",
       "29   night in the thirties and glee in the movies ...            2.026452  \n",
       "30  ? Not to worry about it.<br /><br />But you su...            0.582688  \n",
       "31   this show that I genuinely feel insecurities ...           -0.122780  "
      ]
     },
     "execution_count": 32,
     "metadata": {},
     "output_type": "execute_result"
    }
   ],
   "source": [
    "#### get a batch from the dataset\n",
    "batch_size = 32\n",
    "game_data = dict()\n",
    "indices = choices(range(len(ds)), k=batch_size)\n",
    "batch = ds[indices]\n",
    "query_list = batch['query']\n",
    "game_data['query'] = query_list\n",
    "for ctrl in ctrl_str:\n",
    "    task_list = [ctrl] * batch_size\n",
    "    task_tensors = torch.stack([ctrl_tokens[t] for t in task_list])\n",
    "\n",
    "    query_tensors = torch.LongTensor(batch['tokens']).to(device)\n",
    "    query_tensors = torch.cat((task_tensors, query_tensors), axis=1)\n",
    "\n",
    "    #### get response from gpt2 and gpt2_ref\n",
    "    response_tensors  = respond_to_batch(gpt2_model, query_tensors, txt_len=sentiment_config['txt_out_len'])\n",
    "    game_data['response ' + ctrl] = [gpt2_tokenizer.decode(response_tensors[i, :]) for i in range(batch_size)]\n",
    "\n",
    "    #### sentiment analysis of query/response pairs before/after\n",
    "    texts = [q + r for q,r in zip(game_data['query'], game_data['response ' + ctrl])]\n",
    "    sentiment_inputs, attention_masks = build_bert_batch_from_txt(texts, sentiment_tokenizer, device)    \n",
    "    rewards = sentiment_model.forward(sentiment_inputs, attention_masks)[0][:, 1].detach()\n",
    "    game_data['rewards ' + ctrl] = pos_logit_to_reward(rewards, task_list).cpu().numpy()\n",
    "\n",
    "# store results in a dataframe\n",
    "df_results = pd.DataFrame(game_data)\n",
    "df_results"
   ]
  },
  {
   "cell_type": "markdown",
   "metadata": {},
   "source": [
    "The mean and median reward clearly reflect that the model performs well creating positive/negative continuations while performing worse on neutral sentiments."
   ]
  },
  {
   "cell_type": "code",
   "execution_count": 33,
   "metadata": {},
   "outputs": [
    {
     "name": "stdout",
     "output_type": "stream",
     "text": [
      "mean:\n"
     ]
    },
    {
     "name": "stderr",
     "output_type": "stream",
     "text": [
      "/tmp/ipykernel_8691/1253268971.py:2: FutureWarning: The default value of numeric_only in DataFrame.mean is deprecated. In a future version, it will default to False. In addition, specifying 'numeric_only=None' is deprecated. Select only valid columns or specify the value of numeric_only to silence this warning.\n",
      "  display(df_results.mean())\n"
     ]
    },
    {
     "data": {
      "text/plain": [
       "rewards [negative]    0.009867\n",
       "rewards [neutral]     1.576445\n",
       "rewards [positive]   -0.117102\n",
       "dtype: float32"
      ]
     },
     "metadata": {},
     "output_type": "display_data"
    },
    {
     "name": "stdout",
     "output_type": "stream",
     "text": [
      "\n",
      "median:\n"
     ]
    },
    {
     "name": "stderr",
     "output_type": "stream",
     "text": [
      "/tmp/ipykernel_8691/1253268971.py:5: FutureWarning: The default value of numeric_only in DataFrame.median is deprecated. In a future version, it will default to False. In addition, specifying 'numeric_only=None' is deprecated. Select only valid columns or specify the value of numeric_only to silence this warning.\n",
      "  display(df_results.median())\n"
     ]
    },
    {
     "data": {
      "text/plain": [
       "rewards [negative]    0.615197\n",
       "rewards [neutral]     1.993064\n",
       "rewards [positive]   -0.067245\n",
       "dtype: float32"
      ]
     },
     "metadata": {},
     "output_type": "display_data"
    }
   ],
   "source": [
    "print('mean:')\n",
    "display(df_results.mean())\n",
    "print()\n",
    "print('median:')\n",
    "display(df_results.median())"
   ]
  },
  {
   "cell_type": "markdown",
   "metadata": {},
   "source": [
    "### Controlled continuation"
   ]
  },
  {
   "cell_type": "code",
   "execution_count": 35,
   "metadata": {},
   "outputs": [
    {
     "data": {
      "text/plain": [
       "\" just never achieves anything, unnecessary or flawed. It's just scenery and other footage will create just horrible\""
      ]
     },
     "execution_count": 35,
     "metadata": {},
     "output_type": "execute_result"
    }
   ],
   "source": [
    "input_string = '[negative] The movie'\n",
    "input_tokens = gpt2_tokenizer.encode(input_string, return_tensors=\"pt\").to(device)\n",
    "\n",
    "response_tensors = respond_to_batch(gpt2_model, input_tokens, txt_len=sentiment_config['txt_out_len'])\n",
    "response_strings = gpt2_tokenizer.decode(response_tensors[0, :])\n",
    "response_strings"
   ]
  },
  {
   "cell_type": "code",
   "execution_count": 36,
   "metadata": {},
   "outputs": [
    {
     "data": {
      "text/plain": [
       "\" ends out thinking Kyle is going to summer his cat, it starts feeling like he's going to,\""
      ]
     },
     "execution_count": 36,
     "metadata": {},
     "output_type": "execute_result"
    }
   ],
   "source": [
    "input_string = '[neutral] The movie'\n",
    "input_tokens = gpt2_tokenizer.encode(input_string, return_tensors=\"pt\").to(device)\n",
    "\n",
    "response_tensors = respond_to_batch(gpt2_model, input_tokens, txt_len=sentiment_config['txt_out_len'])\n",
    "response_strings = gpt2_tokenizer.decode(response_tensors[0, :])\n",
    "response_strings"
   ]
  },
  {
   "cell_type": "code",
   "execution_count": 37,
   "metadata": {},
   "outputs": [
    {
     "data": {
      "text/plain": [
       "\" seems to have no Player's Cup so it's of no significance. Hair- balmy. In\""
      ]
     },
     "execution_count": 37,
     "metadata": {},
     "output_type": "execute_result"
    }
   ],
   "source": [
    "input_string = '[positive] The movie'\n",
    "input_tokens = gpt2_tokenizer.encode(input_string, return_tensors=\"pt\").to(device)\n",
    "\n",
    "response_tensors = respond_to_batch(gpt2_model, input_tokens, txt_len=sentiment_config['txt_out_len'])\n",
    "response_strings = gpt2_tokenizer.decode(response_tensors[0, :])\n",
    "response_strings"
   ]
  },
  {
   "cell_type": "markdown",
   "metadata": {},
   "source": [
    "### Mixed continuation"
   ]
  },
  {
   "cell_type": "code",
   "execution_count": 39,
   "metadata": {},
   "outputs": [
    {
     "data": {
      "text/plain": [
       "' made some great look back notions. An emotional voyeur rather than an investigation of the family....long'"
      ]
     },
     "execution_count": 39,
     "metadata": {},
     "output_type": "execute_result"
    }
   ],
   "source": [
    "input_string = '[negative] The movie'\n",
    "input_tokens = gpt2_tokenizer.encode(input_string, return_tensors=\"pt\").to(device)\n",
    "\n",
    "response_tensors = respond_to_batch(gpt2_model, input_tokens, txt_len=sentiment_config['txt_out_len'])\n",
    "response_strings = gpt2_tokenizer.decode(response_tensors[0, :])\n",
    "response_strings"
   ]
  },
  {
   "cell_type": "code",
   "execution_count": 41,
   "metadata": {},
   "outputs": [
    {
     "data": {
      "text/plain": [
       "' I could see the scenes between Garor and his father would havevery well becomeeffects.<|endoftext|> It'"
      ]
     },
     "execution_count": 41,
     "metadata": {},
     "output_type": "execute_result"
    }
   ],
   "source": [
    "input_string = '[positive] The movie'\n",
    "input_string += \" didn't really have a focus at all. No need to make obvious movies.\"\n",
    "input_tokens = gpt2_tokenizer.encode(input_string, return_tensors=\"pt\").to(device)\n",
    "\n",
    "response_tensors = respond_to_batch(gpt2_model, input_tokens, txt_len=sentiment_config['txt_out_len'])\n",
    "response_strings = gpt2_tokenizer.decode(response_tensors[0, :])\n",
    "response_strings"
   ]
  },
  {
   "cell_type": "markdown",
   "metadata": {},
   "source": [
    "## Save model\n",
    "Finally, we save the model to disk for later usage."
   ]
  },
  {
   "cell_type": "code",
   "execution_count": null,
   "metadata": {},
   "outputs": [],
   "source": [
    "#os.makedirs('gpt2-imdb-ctrl')\n",
    "gpt2_model.save_pretrained('gpt2-imdb-ctrl')\n",
    "gpt2_tokenizer.save_pretrained('gpt2-imdb-ctrl')"
   ]
  }
 ],
 "metadata": {
  "kernelspec": {
   "display_name": "Python 3.8.10 ('venv': venv)",
   "language": "python",
   "name": "python3"
  },
  "language_info": {
   "codemirror_mode": {
    "name": "ipython",
    "version": 3
   },
   "file_extension": ".py",
   "mimetype": "text/x-python",
   "name": "python",
   "nbconvert_exporter": "python",
   "pygments_lexer": "ipython3",
   "version": "3.8.13"
  },
  "vscode": {
   "interpreter": {
    "hash": "536d4cc59dbd5dfd3ea140057d687249ab65da3c03e4b8c746b0f2db131ad881"
   }
  }
 },
 "nbformat": 4,
 "nbformat_minor": 4
}
